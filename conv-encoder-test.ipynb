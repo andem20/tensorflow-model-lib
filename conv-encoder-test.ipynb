{
 "cells": [
  {
   "cell_type": "code",
   "execution_count": 1,
   "metadata": {},
   "outputs": [
    {
     "name": "stderr",
     "output_type": "stream",
     "text": [
      "2023-06-08 19:49:14.814442: I tensorflow/tsl/cuda/cudart_stub.cc:28] Could not find cuda drivers on your machine, GPU will not be used.\n",
      "2023-06-08 19:49:14.848525: I tensorflow/tsl/cuda/cudart_stub.cc:28] Could not find cuda drivers on your machine, GPU will not be used.\n",
      "2023-06-08 19:49:14.849622: I tensorflow/core/platform/cpu_feature_guard.cc:182] This TensorFlow binary is optimized to use available CPU instructions in performance-critical operations.\n",
      "To enable the following instructions: AVX2 FMA, in other operations, rebuild TensorFlow with the appropriate compiler flags.\n",
      "2023-06-08 19:49:15.856399: W tensorflow/compiler/tf2tensorrt/utils/py_utils.cc:38] TF-TRT Warning: Could not find TensorRT\n"
     ]
    }
   ],
   "source": [
    "import tensorflow as tf\n",
    "import models"
   ]
  },
  {
   "cell_type": "code",
   "execution_count": 5,
   "metadata": {},
   "outputs": [
    {
     "name": "stdout",
     "output_type": "stream",
     "text": [
      "ListWrapper([<tf.Tensor 'conv_encoder_3/conv_block_9/sequential_9/batch_normalization_19/FusedBatchNormV3:0' shape=(None, 64, 64, 32) dtype=float32>, <tf.Tensor 'conv_encoder_3/conv_block_10/sequential_10/batch_normalization_21/FusedBatchNormV3:0' shape=(None, 32, 32, 64) dtype=float32>, <tf.Tensor 'conv_encoder_3/conv_block_11/sequential_11/batch_normalization_23/FusedBatchNormV3:0' shape=(None, 16, 16, 128) dtype=float32>])\n",
      "Model: \"model_3\"\n",
      "_________________________________________________________________\n",
      " Layer (type)                Output Shape              Param #   \n",
      "=================================================================\n",
      " input_4 (InputLayer)        [(None, 64, 64, 3)]       0         \n",
      "                                                                 \n",
      " conv_encoder_3 (ConvEncoder  (None, 8, 8, 128)        288800    \n",
      " )                                                               \n",
      "                                                                 \n",
      "=================================================================\n",
      "Total params: 288,800\n",
      "Trainable params: 287,904\n",
      "Non-trainable params: 896\n",
      "_________________________________________________________________\n"
     ]
    }
   ],
   "source": [
    "inputs = tf.keras.Input(shape=(64, 64, 3))\n",
    "\n",
    "encoder = models.ConvEncoder(stack=[32, 64, 128])\n",
    "x = encoder(inputs)\n",
    "\n",
    "print(encoder.skips)\n",
    "\n",
    "model = tf.keras.Model(inputs, x)\n",
    "\n",
    "model.summary()\n"
   ]
  }
 ],
 "metadata": {
  "kernelspec": {
   "display_name": "Python 3",
   "language": "python",
   "name": "python3"
  },
  "language_info": {
   "codemirror_mode": {
    "name": "ipython",
    "version": 3
   },
   "file_extension": ".py",
   "mimetype": "text/x-python",
   "name": "python",
   "nbconvert_exporter": "python",
   "pygments_lexer": "ipython3",
   "version": "3.10.6"
  },
  "orig_nbformat": 4
 },
 "nbformat": 4,
 "nbformat_minor": 2
}
