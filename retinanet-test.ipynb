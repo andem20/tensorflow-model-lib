{
 "cells": [
  {
   "cell_type": "code",
   "execution_count": 1,
   "metadata": {},
   "outputs": [
    {
     "name": "stderr",
     "output_type": "stream",
     "text": [
      "2023-06-12 20:44:45.750801: I tensorflow/tsl/cuda/cudart_stub.cc:28] Could not find cuda drivers on your machine, GPU will not be used.\n",
      "2023-06-12 20:44:45.782386: I tensorflow/tsl/cuda/cudart_stub.cc:28] Could not find cuda drivers on your machine, GPU will not be used.\n",
      "2023-06-12 20:44:45.782951: I tensorflow/core/platform/cpu_feature_guard.cc:182] This TensorFlow binary is optimized to use available CPU instructions in performance-critical operations.\n",
      "To enable the following instructions: AVX2 FMA, in other operations, rebuild TensorFlow with the appropriate compiler flags.\n",
      "2023-06-12 20:44:46.792917: W tensorflow/compiler/tf2tensorrt/utils/py_utils.cc:38] TF-TRT Warning: Could not find TensorRT\n"
     ]
    }
   ],
   "source": [
    "import tensorflow as tf\n",
    "import models"
   ]
  },
  {
   "cell_type": "code",
   "execution_count": 2,
   "metadata": {},
   "outputs": [
    {
     "name": "stdout",
     "output_type": "stream",
     "text": [
      "WARNING:tensorflow:Layers in a Sequential model should only have a single input tensor. Received: inputs=[<tf.Tensor 'Placeholder:0' shape=(None, 256, 256, 3) dtype=float32>]. Consider rewriting this model with the Functional API.\n",
      "WARNING:tensorflow:Layers in a Sequential model should only have a single input tensor. Received: inputs=[<tf.Tensor 'Placeholder:0' shape=(None, 256, 256, 3) dtype=float32>]. Consider rewriting this model with the Functional API.\n",
      "Model: \"retina_net_1\"\n",
      "__________________________________________________________________________________________________\n",
      " Layer (type)                   Output Shape         Param #     Connected to                     \n",
      "==================================================================================================\n",
      " input_1 (InputLayer)           [(None, 256, 256, 3  0           []                               \n",
      "                                )]                                                                \n",
      "                                                                                                  \n",
      " fpn_1 (FPN)                    ListWrapper([(None,  1616672     ['input_1[0][0]']                \n",
      "                                 64, 64, 256),                                                    \n",
      "                                 (None, 128, 128, 1                                               \n",
      "                                28)])                                                             \n",
      "                                                                                                  \n",
      " tf.compat.v1.shape (TFOpLambda  (5,)                0           ['input_1[0][0]']                \n",
      " )                                                                                                \n",
      "                                                                                                  \n",
      " box_mlp (MLP)                  (None, 64, 64, 36)   2369572     ['fpn_1[0][0]']                  \n",
      "                                                                                                  \n",
      " tf.__operators__.getitem (Slic  ()                  0           ['tf.compat.v1.shape[0][0]']     \n",
      " ingOpLambda)                                                                                     \n",
      "                                                                                                  \n",
      " box_mlp_2 (MLP)                (None, 128, 128, 36  2074660     ['fpn_1[0][1]']                  \n",
      "                                )                                                                 \n",
      "                                                                                                  \n",
      " class_mlp_1 (MLP)              (None, 64, 64, 27)   2367259     ['fpn_1[0][0]']                  \n",
      "                                                                                                  \n",
      " class_mlp_3 (MLP)              (None, 128, 128, 27  2072347     ['fpn_1[0][1]']                  \n",
      "                                )                                                                 \n",
      "                                                                                                  \n",
      " tf.reshape (TFOpLambda)        (1, None, 4)         0           ['box_mlp[0][0]',                \n",
      "                                                                  'tf.__operators__.getitem[0][0]'\n",
      "                                                                 ]                                \n",
      "                                                                                                  \n",
      " tf.reshape_2 (TFOpLambda)      (1, None, 4)         0           ['box_mlp_2[0][0]',              \n",
      "                                                                  'tf.__operators__.getitem[0][0]'\n",
      "                                                                 ]                                \n",
      "                                                                                                  \n",
      " tf.reshape_1 (TFOpLambda)      (1, None, 3)         0           ['class_mlp_1[0][0]',            \n",
      "                                                                  'tf.__operators__.getitem[0][0]'\n",
      "                                                                 ]                                \n",
      "                                                                                                  \n",
      " tf.reshape_3 (TFOpLambda)      (1, None, 3)         0           ['class_mlp_3[0][0]',            \n",
      "                                                                  'tf.__operators__.getitem[0][0]'\n",
      "                                                                 ]                                \n",
      "                                                                                                  \n",
      " tf.concat (TFOpLambda)         (2, None, 4)         0           ['tf.reshape[0][0]',             \n",
      "                                                                  'tf.reshape_2[0][0]']           \n",
      "                                                                                                  \n",
      " tf.concat_1 (TFOpLambda)       (2, None, 3)         0           ['tf.reshape_1[0][0]',           \n",
      "                                                                  'tf.reshape_3[0][0]']           \n",
      "                                                                                                  \n",
      " tf.concat_2 (TFOpLambda)       (2, None, 7)         0           ['tf.concat[0][0]',              \n",
      "                                                                  'tf.concat_1[0][0]']            \n",
      "                                                                                                  \n",
      "==================================================================================================\n",
      "Total params: 10,500,510\n",
      "Trainable params: 10,499,614\n",
      "Non-trainable params: 896\n",
      "__________________________________________________________________________________________________\n"
     ]
    }
   ],
   "source": [
    "backbone = models.ConvEncoder(input_shape=(256, 256, 3), stack=[32, 64, 128])\n",
    "decoder = models.UpsampleDecoder(input_shape=backbone.output_dimensions, stack=[256, 128], multiple_outputs=True)\n",
    "retinanet = models.RetinaNet(backbone=backbone, decoder=decoder, num_classes=3)\n",
    "retinanet.summary()"
   ]
  }
 ],
 "metadata": {
  "kernelspec": {
   "display_name": "Python 3",
   "language": "python",
   "name": "python3"
  },
  "language_info": {
   "codemirror_mode": {
    "name": "ipython",
    "version": 3
   },
   "file_extension": ".py",
   "mimetype": "text/x-python",
   "name": "python",
   "nbconvert_exporter": "python",
   "pygments_lexer": "ipython3",
   "version": "3.10.6"
  },
  "orig_nbformat": 4
 },
 "nbformat": 4,
 "nbformat_minor": 2
}
